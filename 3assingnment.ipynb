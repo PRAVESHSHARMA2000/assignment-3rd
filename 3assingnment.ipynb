{
 "cells": [
  {
   "cell_type": "code",
   "execution_count": 1,
   "id": "4ee2fae0-a636-4a11-ade5-a19eecfc0d39",
   "metadata": {},
   "outputs": [],
   "source": [
    "# question n0 2 - write a python programmming  to find the square of all the number in the given list of integers using lambda function functions."
   ]
  },
  {
   "cell_type": "code",
   "execution_count": 2,
   "id": "d7701b1e-748a-4fe0-9c96-263b0f0b8013",
   "metadata": {},
   "outputs": [],
   "source": [
    "l = [1,2,3,4,5,6,7,8,9,10]"
   ]
  },
  {
   "cell_type": "code",
   "execution_count": 3,
   "id": "a248bfe2-f79f-4a6c-81f5-c1e73fe0cfe5",
   "metadata": {},
   "outputs": [
    {
     "data": {
      "text/plain": [
       "[1, 4, 9, 16, 25, 36, 49, 64, 81, 100]"
      ]
     },
     "execution_count": 3,
     "metadata": {},
     "output_type": "execute_result"
    }
   ],
   "source": [
    "list(map(lambda x : x**2 , l))"
   ]
  },
  {
   "cell_type": "code",
   "execution_count": 4,
   "id": "aa0e7d69-6bef-43d3-981c-5a707530703a",
   "metadata": {},
   "outputs": [],
   "source": [
    "# question no 3 - write a python programming to convert the given list of intergers into a tuple of strings. use map and lambda function   "
   ]
  },
  {
   "cell_type": "code",
   "execution_count": 5,
   "id": "7a869ccf-29b8-4c44-94b0-41bf860a9c29",
   "metadata": {},
   "outputs": [],
   "source": [
    "y = [1,2,3,4,6,7,8,9,10]"
   ]
  },
  {
   "cell_type": "code",
   "execution_count": 8,
   "id": "c365eccf-d71c-47fa-96ea-8cfbceb7ef06",
   "metadata": {},
   "outputs": [
    {
     "data": {
      "text/plain": [
       "['1', '2', '3', '4', '6', '7', '8', '9', '10']"
      ]
     },
     "execution_count": 8,
     "metadata": {},
     "output_type": "execute_result"
    }
   ],
   "source": [
    "list(map(lambda x :str(x).upper(), y))"
   ]
  },
  {
   "cell_type": "code",
   "execution_count": 9,
   "id": "4a8ea93e-bc08-4508-9e93-5ef0a747ccd5",
   "metadata": {},
   "outputs": [],
   "source": [
    "# question no 5 - write a python program to filter the number in a given list that are divisible by 2 and 3 using the filter function."
   ]
  },
  {
   "cell_type": "code",
   "execution_count": 10,
   "id": "a4490434-a5f4-415b-9a15-b4552fc40105",
   "metadata": {},
   "outputs": [],
   "source": [
    "d = [2,3,6,9,27,60,90,120,55,46]"
   ]
  },
  {
   "cell_type": "code",
   "execution_count": 13,
   "id": "64157933-dc7a-46a7-a3c5-49d635c72221",
   "metadata": {},
   "outputs": [
    {
     "data": {
      "text/plain": [
       "[6, 60, 90, 120]"
      ]
     },
     "execution_count": 13,
     "metadata": {},
     "output_type": "execute_result"
    }
   ],
   "source": [
    "list(filter(lambda x :  x%2 == 0 and x%3 ==0, d ))"
   ]
  },
  {
   "cell_type": "code",
   "execution_count": 15,
   "id": "89cd283d-66bd-4369-9e07-22dc97f99738",
   "metadata": {},
   "outputs": [],
   "source": [
    "#question no 4 write a pthyon program using reduce function to compute the product of a list containing numbers from 1 to 25."
   ]
  },
  {
   "cell_type": "code",
   "execution_count": 16,
   "id": "830d798c-ccad-4dbd-afc5-8c57f729f73a",
   "metadata": {},
   "outputs": [],
   "source": [
    "l = [1,2,3,4,5,6,7,8,9,10,11,12,13,14,15,16,17,18,19,20,21,22,23,24,25]"
   ]
  },
  {
   "cell_type": "code",
   "execution_count": 17,
   "id": "6138fc40-0080-4a3d-82a9-f3b2b67ac90f",
   "metadata": {},
   "outputs": [],
   "source": [
    "from functools import reduce"
   ]
  },
  {
   "cell_type": "code",
   "execution_count": 18,
   "id": "fd1c26ca-6205-4b3c-801b-74b0e1b0f8e5",
   "metadata": {},
   "outputs": [
    {
     "data": {
      "text/plain": [
       "15511210043330985984000000"
      ]
     },
     "execution_count": 18,
     "metadata": {},
     "output_type": "execute_result"
    }
   ],
   "source": [
    "reduce(lambda x , y : x*y , l)"
   ]
  },
  {
   "cell_type": "code",
   "execution_count": 1,
   "id": "3533a8e8-b283-41bb-a444-831778e60240",
   "metadata": {},
   "outputs": [],
   "source": [
    "#question no 6- write a python progrmm to find palindromes in the given list of string using lambda and filter function.\n",
    "  # ['python', 'php', 'aba', 'radar', 'level']"
   ]
  },
  {
   "cell_type": "code",
   "execution_count": 2,
   "id": "0d2bc323-0047-4013-aeab-aa28c773cfee",
   "metadata": {},
   "outputs": [],
   "source": [
    "l = [\"python\" , \"php\" , \"aba\" , \"radar\" , \"level\"]"
   ]
  },
  {
   "cell_type": "code",
   "execution_count": 12,
   "id": "60239c38-53a8-4cde-8207-e5d0ddbb57fc",
   "metadata": {},
   "outputs": [
    {
     "data": {
      "text/plain": [
       "['php', 'aba', 'radar', 'level']"
      ]
     },
     "execution_count": 12,
     "metadata": {},
     "output_type": "execute_result"
    }
   ],
   "source": [
    "list(filter(lambda x : (x== \"\".join(reversed(x))) , l))"
   ]
  },
  {
   "cell_type": "code",
   "execution_count": 11,
   "id": "49252c1f-d6d5-4f92-97da-6de149e8dc80",
   "metadata": {},
   "outputs": [],
   "source": [
    "# question no - 1 create a python programm to sot the given list of tuples based an integer value using a lambda function.\n",
    " "
   ]
  },
  {
   "cell_type": "code",
   "execution_count": 14,
   "id": "132ea41f-01dc-4eb5-b60a-46955c179eb6",
   "metadata": {},
   "outputs": [],
   "source": [
    "players = [(\"sachine tendulkar\" , 34357) , (\"ricky ponting\" , 27483) , (\"jack kallies\" , 25534) , (\"virat kohli\" , 24936)]"
   ]
  },
  {
   "cell_type": "code",
   "execution_count": 16,
   "id": "cce1adf4-7920-40c7-8884-fa8d5c549cf3",
   "metadata": {},
   "outputs": [],
   "source": [
    "sorted_players = sorted(players , key = lambda x : x[1])"
   ]
  },
  {
   "cell_type": "code",
   "execution_count": 17,
   "id": "1fa28bed-094c-4d26-ba84-9ed5c156a517",
   "metadata": {},
   "outputs": [
    {
     "data": {
      "text/plain": [
       "[('sachine tendulkar', 34357),\n",
       " ('ricky ponting', 27483),\n",
       " ('jack kallies', 25534),\n",
       " ('virat kohli', 24936)]"
      ]
     },
     "execution_count": 17,
     "metadata": {},
     "output_type": "execute_result"
    }
   ],
   "source": [
    "players"
   ]
  },
  {
   "cell_type": "code",
   "execution_count": null,
   "id": "65ef4013-46ec-4ed4-a7f4-f49958cc789f",
   "metadata": {},
   "outputs": [],
   "source": [
    "SS"
   ]
  }
 ],
 "metadata": {
  "kernelspec": {
   "display_name": "Python 3 (ipykernel)",
   "language": "python",
   "name": "python3"
  },
  "language_info": {
   "codemirror_mode": {
    "name": "ipython",
    "version": 3
   },
   "file_extension": ".py",
   "mimetype": "text/x-python",
   "name": "python",
   "nbconvert_exporter": "python",
   "pygments_lexer": "ipython3",
   "version": "3.10.8"
  }
 },
 "nbformat": 4,
 "nbformat_minor": 5
}
